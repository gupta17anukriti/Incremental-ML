{
 "cells": [
  {
   "cell_type": "code",
   "execution_count": 1,
   "metadata": {},
   "outputs": [
    {
     "name": "stderr",
     "output_type": "stream",
     "text": [
      "C:\\ProgramData\\Anaconda3\\lib\\site-packages\\IPython\\core\\interactiveshell.py:2717: DtypeWarning: Columns (10) have mixed types. Specify dtype option on import or set low_memory=False.\n",
      "  interactivity=interactivity, compiler=compiler, result=result)\n"
     ]
    },
    {
     "data": {
      "text/plain": [
       "((67903, 2), (65808, 9), (67903, 10))"
      ]
     },
     "execution_count": 1,
     "metadata": {},
     "output_type": "execute_result"
    }
   ],
   "source": [
    "import pandas as pd \n",
    "import numpy as np \n",
    "from sklearn.model_selection import train_test_split\n",
    "import matplotlib.pyplot as plt\n",
    "from sklearn.linear_model import SGDClassifier, Perceptron, PassiveAggressiveClassifier\n",
    "from sklearn.linear_model import LogisticRegression \n",
    "data2 = pd.read_csv(\"UHG_SAS_bds_anu1.csv\")\n",
    "data1 = pd.DataFrame(pd.read_csv(\"d.csv\")[['MEDICARE_HICN_CD','pxcreatedate']])\n",
    "#data1 = data[:,[6,7,11,25,26,27,54,55,56,57,58,59,60,67,68,69,70,71,207,208,209,210,362,363,364,365,366]]\n",
    "\n",
    "data = pd.merge(data2,data1, on =\"MEDICARE_HICN_CD\", how =\"left\")\n",
    "\n",
    "data.columns\n",
    "data1.shape, data2.shape, data.shape"
   ]
  },
  {
   "cell_type": "code",
   "execution_count": 2,
   "metadata": {},
   "outputs": [
    {
     "name": "stdout",
     "output_type": "stream",
     "text": [
      "MEDICARE_HICN_CD            0\n",
      "f_optim                     0\n",
      "n_180_bcs_opt               0\n",
      "n_360_bcs_refuse_olt        0\n",
      "age_imp                     0\n",
      "TOT_RX_CLM_90_imp           0\n",
      "MM_HH_n_21_a4m_assist_m     0\n",
      "f_spanish                   0\n",
      "HH_n_360_a4m_opt_sum_add    0\n",
      "pxcreatedate                0\n",
      "year                        0\n",
      "month                       0\n",
      "dtype: int64\n",
      "f_optim                     0\n",
      "n_180_bcs_opt               0\n",
      "n_360_bcs_refuse_olt        0\n",
      "age_imp                     0\n",
      "TOT_RX_CLM_90_imp           0\n",
      "MM_HH_n_21_a4m_assist_m     0\n",
      "f_spanish                   0\n",
      "HH_n_360_a4m_opt_sum_add    0\n",
      "year                        0\n",
      "month                       0\n",
      "dtype: int64 (67903, 10)\n"
     ]
    }
   ],
   "source": [
    "data.loc[:,'pxcreatedate']\n",
    "data['year'] = pd.DatetimeIndex(data['pxcreatedate']).year\n",
    "data['month'] = pd.DatetimeIndex(data['pxcreatedate']).month\n",
    "grouped =data.groupby('month').size()\n",
    "#grouped\n",
    "\n",
    "\"\"\"2     4509\n",
    "3     7667\n",
    "4     6476\n",
    "5     7117\n",
    "6     6952\n",
    "7     6086\n",
    "8     6503\n",
    "9     4428\n",
    "10    6936\n",
    "11    6824\n",
    "12    4405\n",
    "\"\"\"\n",
    "data.columns\n",
    "\n",
    "\n",
    "data = data.replace(np.NaN,0)\n",
    "\n",
    "print(data.isnull().sum())\n",
    "data.columns\n",
    "data1 = data.iloc[:,np.r_[1:9,10:12]]\n",
    "data1.columns\n",
    "print(data1.isnull().sum(), data1.shape)"
   ]
  },
  {
   "cell_type": "code",
   "execution_count": 3,
   "metadata": {},
   "outputs": [
    {
     "name": "stdout",
     "output_type": "stream",
     "text": [
      "f_optim\n",
      "0    63862\n",
      "1     4041\n",
      "dtype: int64\n"
     ]
    },
    {
     "data": {
      "text/plain": [
       "((38807, 10), (6503, 10))"
      ]
     },
     "execution_count": 3,
     "metadata": {},
     "output_type": "execute_result"
    }
   ],
   "source": [
    "print(data1.groupby('f_optim').size())\n",
    "\n",
    "#data1 = data.iloc[:,np.r_[9,11,21,22,25:31,35,38:42,52:200]][data.month <=7]\n",
    "data11 = data1[data1.month <=7]\n",
    "data2 = data1[data1.month ==8]\n",
    "data3 = data1[(data1.month >=8) & (data1.month <=9)]\n",
    "data4 = data1[(data1.month >=8) & (data1.month <=10)]\n",
    "data5 = data1[(data1.month >=8) & (data1.month <=11)]\n",
    "data6 = data1[(data1.month >=8) & (data1.month <=12)]\n",
    "data11.shape, data2.shape\n",
    "#data1.columns\n",
    "\n"
   ]
  },
  {
   "cell_type": "code",
   "execution_count": null,
   "metadata": {},
   "outputs": [],
   "source": [
    "####Model built \n",
    "from sklearn.neural_network import MLPClassifier \n",
    "from sklearn import preprocessing\n",
    "from sklearn.naive_bayes import BernoulliNB\n",
    "from sklearn.model_selection import KFold\n",
    "from sklearn import datasets,linear_model,metrics\n",
    "from sklearn.model_selection import train_test_split, GridSearchCV\n",
    "from sklearn.metrics import confusion_matrix, accuracy_score\n",
    "import matplotlib.pyplot as plt\n",
    "\n",
    "###Main Training data\n",
    "train_X1, test_X1, train_Y1, test_Y1 = train_test_split(data11.iloc[:,1:], data11.iloc[:,0],test_size = 0.3)\n",
    "###Incremental Data\n",
    "train_X2, test_X2, train_Y2, test_Y2 = train_test_split(data2.iloc[:,1:], data2.iloc[:,0],test_size = 0.3)\n",
    "train_X3, test_X3, train_Y3, test_Y3 = train_test_split(data3.iloc[:,1:], data3.iloc[:,0],test_size = 0.3)\n",
    "train_X4, test_X4, train_Y4, test_Y4 = train_test_split(data4.iloc[:,1:], data4.iloc[:,0],test_size = 0.3)\n",
    "train_X5, test_X5, train_Y5, test_Y5 = train_test_split(data5.iloc[:,1:], data5.iloc[:,0],test_size = 0.3)\n",
    "train_X6, test_X6, train_Y6, test_Y6 = train_test_split(data6.iloc[:,1:], data6.iloc[:,0],test_size = 0.3)\n",
    "\n",
    "#### combined 30%-30% of both mini batches\n",
    "comb_X2,comb_Y2 = test_X1.append(test_X2), test_Y1.append(test_Y2)\n",
    "comb_X3,comb_Y3 = test_X1.append(test_X3), test_Y1.append(test_Y3)\n",
    "comb_X4,comb_Y4 = test_X1.append(test_X4), test_Y1.append(test_Y4)\n",
    "comb_X5,comb_Y5 = test_X1.append(test_X5), test_Y1.append(test_Y5)\n",
    "comb_X6,comb_Y6 = test_X1.append(test_X6), test_Y1.append(test_Y6)\n",
    "\n",
    "train_X11 = preprocessing.scale(train_X1)\n",
    "test_X11 = preprocessing.scale(test_X1)\n",
    "\n",
    "params = {\n",
    "    \"loss\" : ['log'],\n",
    "    \"alpha\" : [1e-4,1e-3,1e-2,1e-1,1e0,1e1,1e2,1e3,1e4],\n",
    "    \"penalty\" : ['l2'],\n",
    "    \"n_iter\" :[1000]\n",
    "}\n",
    "      \n",
    "clf = SGDClassifier()\n",
    "clf = GridSearchCV(clf, param_grid=params)\n",
    "clf1 = clf.fit(train_X1,train_Y1)\n",
    "print(clf1.best_estimator_, clf1.best_score_)\n",
    "\n",
    "clf2 =clf.fit(train_X11,train_Y1)\n",
    "print(clf2.best_estimator_, clf2.best_score_)\n",
    "\n",
    "###accuracy of train and test of mini batch 1\n",
    "print(\"Accuracy for (train,test)-\" , accuracy_score(train_Y1,clf1.predict(train_X1)), accuracy_score(test_Y1,clf1.predict(test_X1)))\n",
    "print(\"Confusion Matrix for Mini Batch1-\", confusion_matrix(test_Y1,clf1.predict(test_X1)))\n",
    "\n",
    "###accuracy of train and test of mini batch 1\n",
    "print(\"Accuracy for (train,test)-\" , accuracy_score(train_Y1,clf2.predict(train_X11)), accuracy_score(test_Y1,clf2.predict(test_X11)))\n",
    "print(\"Confusion Matrix for Mini Batch1-\", confusion_matrix(test_Y1,clf2.predict(test_X11)))\n"
   ]
  },
  {
   "cell_type": "code",
   "execution_count": 5,
   "metadata": {},
   "outputs": [
    {
     "data": {
      "text/plain": [
       "dict_keys(['cv', 'error_score', 'estimator__alpha', 'estimator__average', 'estimator__class_weight', 'estimator__epsilon', 'estimator__eta0', 'estimator__fit_intercept', 'estimator__l1_ratio', 'estimator__learning_rate', 'estimator__loss', 'estimator__n_iter', 'estimator__n_jobs', 'estimator__penalty', 'estimator__power_t', 'estimator__random_state', 'estimator__shuffle', 'estimator__verbose', 'estimator__warm_start', 'estimator', 'fit_params', 'iid', 'n_jobs', 'param_grid', 'pre_dispatch', 'refit', 'return_train_score', 'scoring', 'verbose'])"
      ]
     },
     "execution_count": 5,
     "metadata": {},
     "output_type": "execute_result"
    }
   ],
   "source": [
    "###Normalization \n",
    "##Oversampling \n",
    "#hyperparameter tuning \n",
    "clf.get_params().keys()"
   ]
  },
  {
   "cell_type": "code",
   "execution_count": null,
   "metadata": {
    "scrolled": true
   },
   "outputs": [
    {
     "name": "stdout",
     "output_type": "stream",
     "text": [
      "-------------FITTING MODELS-------------\n"
     ]
    },
    {
     "name": "stderr",
     "output_type": "stream",
     "text": [
      "[Parallel(n_jobs=-1)]: Done   3 out of   9 | elapsed:  4.1min remaining:  8.3min\n",
      "[Parallel(n_jobs=-1)]: Done   4 out of   9 | elapsed:  5.5min remaining:  6.8min\n",
      "[Parallel(n_jobs=-1)]: Done   5 out of   9 | elapsed:  5.5min remaining:  4.4min\n",
      "[Parallel(n_jobs=-1)]: Done   6 out of   9 | elapsed:  5.5min remaining:  2.7min\n",
      "[Parallel(n_jobs=-1)]: Done   7 out of   9 | elapsed:  5.5min remaining:  1.6min\n",
      "[Parallel(n_jobs=-1)]: Done   9 out of   9 | elapsed:  5.5min remaining:    0.0s\n",
      "[Parallel(n_jobs=-1)]: Done   9 out of   9 | elapsed:  5.5min finished\n"
     ]
    },
    {
     "name": "stdout",
     "output_type": "stream",
     "text": [
      "-------------SCORING MODELS-------------\n"
     ]
    },
    {
     "name": "stderr",
     "output_type": "stream",
     "text": [
      "[Parallel(n_jobs=-1)]: Done   9 out of   9 | elapsed:  5.3min finished\n"
     ]
    },
    {
     "data": {
      "image/png": "[encoded data removed]",
      "text/plain": [
       "<matplotlib.figure.Figure at 0x298ea58>"
      ]
     },
     "metadata": {},
     "output_type": "display_data"
    },
    {
     "name": "stdout",
     "output_type": "stream",
     "text": [
      "-------------FITTING MODELS-------------\n"
     ]
    },
    {
     "name": "stderr",
     "output_type": "stream",
     "text": [
      "[Parallel(n_jobs=-1)]: Done   3 out of   9 | elapsed:  4.4min remaining:  8.9min\n"
     ]
    }
   ],
   "source": [
    "###Hyperparameter tuning \n",
    "\n",
    "##pip install parfit - anaconda\n",
    "from sklearn.model_selection import ParameterGrid\n",
    "from sklearn.linear_model import SGDClassifier\n",
    "from sklearn.metrics import roc_auc_score\n",
    "\n",
    "from parfit import bestFit\n",
    "import parfit as pf\n",
    "\n",
    "model =SGDClassifier()\n",
    "grid ={ \n",
    "'alpha' : [1e-4,1e-3,1e-2,1e-1,1e0,1e1,1e2,1e3,1e4], #learning rate \n",
    "'n_iter': [1000], #epoch\n",
    "'loss'  : ['log'], #logistic regression \n",
    "'penalty':['l2'], \n",
    "'n_jobs': [-1]\n",
    "}\n",
    "paramGrid = ParameterGrid(grid)\n",
    "\n",
    "\n",
    "bestModel, bestScore, allModels, allScores = pf.bestFit(model, paramGrid, train_X1, train_Y1, test_X1, test_Y1, \n",
    "                                                        metric = roc_auc_score, greater_is_better = True, scoreLabel = \"AUC\")\n",
    "\n",
    "bestModel1, bestScore1, allModels1, allScores1 = pf.bestFit(model, paramGrid, train_X11, train_Y1, test_X11, test_Y1, \n",
    "                                                        metric = roc_auc_score, greater_is_better = True, scoreLabel = \"AUC\")\n",
    "\n",
    "print(bestModel, bestScore)\n",
    "print(bestModel1, bestScore1)\n"
   ]
  },
  {
   "cell_type": "code",
   "execution_count": 7,
   "metadata": {},
   "outputs": [
    {
     "name": "stdout",
     "output_type": "stream",
     "text": [
      "Accuracy for (train,test)- 0.304447062288 0.306965558705\n",
      "Confusion Matrix for Mini Batch1- [[2946 7979]\n",
      " [  90  628]]\n"
     ]
    }
   ],
   "source": [
    "\n",
    "print(\"Accuracy for (train,test)-\" , accuracy_score(train_Y1,bestModel.predict(train_X1)), accuracy_score(test_Y1,bestModel.predict(test_X1)))\n",
    "print(\"Confusion Matrix for Mini Batch1-\", confusion_matrix(test_Y1,bestModel.predict(test_X1)))"
   ]
  },
  {
   "cell_type": "code",
   "execution_count": 26,
   "metadata": {},
   "outputs": [
    {
     "name": "stdout",
     "output_type": "stream",
     "text": [
      "Accuracy with Mini Batch2 (train,test)- 0.929042179262 0.928241927217\n"
     ]
    },
    {
     "data": {
      "text/plain": [
       "array([[12555,   172],\n",
       "       [  812,    55]])"
      ]
     },
     "execution_count": 26,
     "metadata": {},
     "output_type": "execute_result"
    }
   ],
   "source": [
    "#### Incremental for 1 month\n",
    "\n",
    "bestModel.partial_fit(train_X2,train_Y2)\n",
    "###accuracy of train and test of mini batch 2\n",
    "print(\"Accuracy with Mini Batch2 (train,test)-\" , accuracy_score(train_Y2,bestModel.predict(train_X2)), accuracy_score(test_Y2,bestModel.predict(test_X2)))\n",
    "confusion_matrix(comb_Y2,bestModel.predict(comb_X2))\n",
    "#print(clf)"
   ]
  },
  {
   "cell_type": "code",
   "execution_count": 16,
   "metadata": {},
   "outputs": [
    {
     "name": "stdout",
     "output_type": "stream",
     "text": [
      "Accuracy with Mini Batch2 (train,test)- 0.0586851391975 0.0627889834484\n"
     ]
    },
    {
     "data": {
      "text/plain": [
       "array([[    0, 13986],\n",
       "       [    0,   937]])"
      ]
     },
     "execution_count": 16,
     "metadata": {},
     "output_type": "execute_result"
    }
   ],
   "source": [
    "#### Incremental for 2 month\n",
    "bestModel.partial_fit(train_X3,train_Y3)\n",
    "###accuracy of train and test of mini batch 2\n",
    "print(\"Accuracy with Mini Batch2 (train,test)-\" , accuracy_score(train_Y3,bestModel.predict(train_X3)), accuracy_score(comb_Y3,bestModel.predict(comb_X3)))\n",
    "confusion_matrix(comb_Y3,bestModel.predict(comb_X3))"
   ]
  },
  {
   "cell_type": "code",
   "execution_count": null,
   "metadata": {},
   "outputs": [],
   "source": [
    "dir(clf.fit)"
   ]
  },
  {
   "cell_type": "code",
   "execution_count": null,
   "metadata": {},
   "outputs": [],
   "source": [
    "train_X1.iloc[:,5:].describe\n",
    "\n"
   ]
  },
  {
   "cell_type": "code",
   "execution_count": null,
   "metadata": {
    "collapsed": true
   },
   "outputs": [],
   "source": [
    "string1 =\"ald\"\n",
    "string2 =\"dsf\"\n",
    "def d(string1,string2):\n",
    "    ls1 =list(string1)\n",
    "    ls2 =list(string2)\n",
    "    if (ls1==ls2):\n",
    "        print(\"anagram\")\n",
    "d(string1,string2)   "
   ]
  }
 ],
 "metadata": {
  "kernelspec": {
   "display_name": "Python 3",
   "language": "python",
   "name": "python3"
  },
  "language_info": {
   "codemirror_mode": {
    "name": "ipython",
    "version": 3
   },
   "file_extension": ".py",
   "mimetype": "text/x-python",
   "name": "python",
   "nbconvert_exporter": "python",
   "pygments_lexer": "ipython3",
   "version": "3.6.1"
  }
 },
 "nbformat": 4,
 "nbformat_minor": 2
}
