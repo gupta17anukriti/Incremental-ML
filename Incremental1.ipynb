{
 "cells": [
  {
   "cell_type": "code",
   "execution_count": 1,
   "metadata": {},
   "outputs": [
    {
     "name": "stderr",
     "output_type": "stream",
     "text": [
      "C:\\ProgramData\\Anaconda3\\lib\\site-packages\\IPython\\core\\interactiveshell.py:2717: DtypeWarning: Columns (10) have mixed types. Specify dtype option on import or set low_memory=False.\n",
      "  interactivity=interactivity, compiler=compiler, result=result)\n"
     ]
    },
    {
     "data": {
      "text/plain": [
       "((67903, 2), (65808, 9), (67903, 10))"
      ]
     },
     "execution_count": 1,
     "metadata": {},
     "output_type": "execute_result"
    }
   ],
   "source": [
    "import pandas as pd \n",
    "import numpy as np \n",
    "from sklearn.model_selection import train_test_split\n",
    "import matplotlib.pyplot as plt\n",
    "from sklearn.linear_model import SGDClassifier, Perceptron, PassiveAggressiveClassifier\n",
    "from sklearn.linear_model import LogisticRegression \n",
    "data2 = pd.read_csv(\"UHG_SAS_bds_anu1.csv\")\n",
    "data1 = pd.DataFrame(pd.read_csv(\"d.csv\")[['MEDICARE_HICN_CD','pxcreatedate']])\n",
    "#data1 = data[:,[6,7,11,25,26,27,54,55,56,57,58,59,60,67,68,69,70,71,207,208,209,210,362,363,364,365,366]]\n",
    "\n",
    "data = pd.merge(data2,data1, on =\"MEDICARE_HICN_CD\", how =\"left\")\n",
    "\n",
    "data.columns\n",
    "data1.shape, data2.shape, data.shape"
   ]
  },
  {
   "cell_type": "code",
   "execution_count": 2,
   "metadata": {},
   "outputs": [
    {
     "name": "stdout",
     "output_type": "stream",
     "text": [
      "MEDICARE_HICN_CD            0\n",
      "f_optim                     0\n",
      "n_180_bcs_opt               0\n",
      "n_360_bcs_refuse_olt        0\n",
      "age_imp                     0\n",
      "TOT_RX_CLM_90_imp           0\n",
      "MM_HH_n_21_a4m_assist_m     0\n",
      "f_spanish                   0\n",
      "HH_n_360_a4m_opt_sum_add    0\n",
      "pxcreatedate                0\n",
      "year                        0\n",
      "month                       0\n",
      "dtype: int64\n",
      "f_optim                     0\n",
      "n_180_bcs_opt               0\n",
      "n_360_bcs_refuse_olt        0\n",
      "age_imp                     0\n",
      "TOT_RX_CLM_90_imp           0\n",
      "MM_HH_n_21_a4m_assist_m     0\n",
      "f_spanish                   0\n",
      "HH_n_360_a4m_opt_sum_add    0\n",
      "year                        0\n",
      "month                       0\n",
      "dtype: int64 (67903, 10)\n"
     ]
    }
   ],
   "source": [
    "data.loc[:,'pxcreatedate']\n",
    "data['year'] = pd.DatetimeIndex(data['pxcreatedate']).year\n",
    "data['month'] = pd.DatetimeIndex(data['pxcreatedate']).month\n",
    "grouped =data.groupby('month').size()\n",
    "#grouped\n",
    "\n",
    "\"\"\"2     4509\n",
    "3     7667\n",
    "4     6476\n",
    "5     7117\n",
    "6     6952\n",
    "7     6086\n",
    "8     6503\n",
    "9     4428\n",
    "10    6936\n",
    "11    6824\n",
    "12    4405\n",
    "\"\"\"\n",
    "data.columns\n",
    "\n",
    "\n",
    "data = data.replace(np.NaN,0)\n",
    "\n",
    "print(data.isnull().sum())\n",
    "data.columns\n",
    "data1 = data.iloc[:,np.r_[1:9,10:12]]\n",
    "data1.columns\n",
    "print(data1.isnull().sum(), data1.shape)"
   ]
  },
  {
   "cell_type": "code",
   "execution_count": 3,
   "metadata": {},
   "outputs": [
    {
     "name": "stdout",
     "output_type": "stream",
     "text": [
      "f_optim\n",
      "0    63862\n",
      "1     4041\n",
      "dtype: int64\n"
     ]
    },
    {
     "data": {
      "text/plain": [
       "((38807, 10), (6503, 10))"
      ]
     },
     "execution_count": 3,
     "metadata": {},
     "output_type": "execute_result"
    }
   ],
   "source": [
    "print(data1.groupby('f_optim').size())\n",
    "\n",
    "#data1 = data.iloc[:,np.r_[9,11,21,22,25:31,35,38:42,52:200]][data.month <=7]\n",
    "data11 = data1[data1.month <=7]\n",
    "data2 = data1[data1.month ==8]\n",
    "data3 = data1[(data1.month >=8) & (data1.month <=9)]\n",
    "data4 = data1[(data1.month >=8) & (data1.month <=10)]\n",
    "data5 = data1[(data1.month >=8) & (data1.month <=11)]\n",
    "data6 = data1[(data1.month >=8) & (data1.month <=12)]\n",
    "data11.shape, data2.shape\n",
    "#data1.columns\n",
    "\n"
   ]
  },
  {
   "cell_type": "code",
   "execution_count": 31,
   "metadata": {},
   "outputs": [
    {
     "name": "stdout",
     "output_type": "stream",
     "text": [
      "SGDClassifier(alpha=10.0, average=False, class_weight=None, epsilon=0.1,\n",
      "       eta0=0.0, fit_intercept=True, l1_ratio=0.15,\n",
      "       learning_rate='optimal', loss='log', n_iter=1000, n_jobs=1,\n",
      "       penalty='l2', power_t=0.5, random_state=None, shuffle=True,\n",
      "       verbose=0, warm_start=False) 0.933109998527\n",
      "SGDClassifier(alpha=0.0001, average=False, class_weight=None, epsilon=0.1,\n",
      "       eta0=0.0, fit_intercept=True, l1_ratio=0.15,\n",
      "       learning_rate='optimal', loss='log', n_iter=1000, n_jobs=1,\n",
      "       penalty='l2', power_t=0.5, random_state=None, shuffle=True,\n",
      "       verbose=0, warm_start=False) 0.934435281991\n",
      "Accuracy for (train,test)- 0.929796789869 0.935669500988\n",
      "Confusion Matrix for Mini Batch1- [[10884    43]\n",
      " [  706    10]]\n",
      "Accuracy for (train,test)- 0.934361655132 0.938933264623\n",
      "Confusion Matrix for Mini Batch1- [[10909    18]\n",
      " [  693    23]]\n"
     ]
    }
   ],
   "source": [
    "####Model built \n",
    "from sklearn.neural_network import MLPClassifier \n",
    "from sklearn import preprocessing\n",
    "from sklearn.naive_bayes import BernoulliNB\n",
    "from sklearn.model_selection import KFold\n",
    "from sklearn import datasets,linear_model,metrics\n",
    "from sklearn.model_selection import train_test_split, GridSearchCV\n",
    "from sklearn.metrics import confusion_matrix, accuracy_score\n",
    "import matplotlib.pyplot as plt\n",
    "\n",
    "###Main Training data\n",
    "train_X1, test_X1, train_Y1, test_Y1 = train_test_split(data11.iloc[:,1:], data11.iloc[:,0],test_size = 0.3)\n",
    "###Incremental Data\n",
    "train_X2, test_X2, train_Y2, test_Y2 = train_test_split(data2.iloc[:,1:], data2.iloc[:,0],test_size = 0.3)\n",
    "train_X3, test_X3, train_Y3, test_Y3 = train_test_split(data3.iloc[:,1:], data3.iloc[:,0],test_size = 0.3)\n",
    "train_X4, test_X4, train_Y4, test_Y4 = train_test_split(data4.iloc[:,1:], data4.iloc[:,0],test_size = 0.3)\n",
    "train_X5, test_X5, train_Y5, test_Y5 = train_test_split(data5.iloc[:,1:], data5.iloc[:,0],test_size = 0.3)\n",
    "train_X6, test_X6, train_Y6, test_Y6 = train_test_split(data6.iloc[:,1:], data6.iloc[:,0],test_size = 0.3)\n",
    "\n",
    "#### combined 30%-30% of both mini batches\n",
    "comb_X2,comb_Y2 = test_X1.append(test_X2), test_Y1.append(test_Y2)\n",
    "comb_X3,comb_Y3 = test_X1.append(test_X3), test_Y1.append(test_Y3)\n",
    "comb_X4,comb_Y4 = test_X1.append(test_X4), test_Y1.append(test_Y4)\n",
    "comb_X5,comb_Y5 = test_X1.append(test_X5), test_Y1.append(test_Y5)\n",
    "comb_X6,comb_Y6 = test_X1.append(test_X6), test_Y1.append(test_Y6)\n",
    "\n",
    "train_X11 = preprocessing.scale(train_X1)\n",
    "test_X11 = preprocessing.scale(test_X1)\n",
    "\n",
    "params = {\n",
    "    \"loss\" : ['log'],\n",
    "    \"alpha\" : [1e-4,1e-3,1e-2,1e-1,1e0,1e1,1e2,1e3,1e4],\n",
    "    \"penalty\" : ['l2'],\n",
    "    \"n_iter\" :[1000]\n",
    "}\n",
    "      \n",
    "clf = SGDClassifier()\n",
    "clf = GridSearchCV(clf, param_grid=params)\n",
    "clf1 = clf.fit(train_X1,train_Y1)\n",
    "print(clf1.best_estimator_, clf1.best_score_)\n",
    "\n",
    "clf2 =clf.fit(train_X11,train_Y1)\n",
    "print(clf2.best_estimator_, clf2.best_score_)\n",
    "\n",
    "###accuracy of train and test of mini batch 1\n",
    "print(\"Accuracy for (train,test)-\" , accuracy_score(train_Y1,clf1.predict(train_X1)), accuracy_score(test_Y1,clf1.predict(test_X1)))\n",
    "print(\"Confusion Matrix for Mini Batch1-\", confusion_matrix(test_Y1,clf1.predict(test_X1)))\n",
    "\n",
    "###accuracy of train and test of mini batch 1\n",
    "print(\"Accuracy for (train,test)-\" , accuracy_score(train_Y1,clf2.predict(train_X11)), accuracy_score(test_Y1,clf2.predict(test_X11)))\n",
    "print(\"Confusion Matrix for Mini Batch1-\", confusion_matrix(test_Y1,clf2.predict(test_X11)))\n"
   ]
  },
  {
   "cell_type": "code",
   "execution_count": 42,
   "metadata": {},
   "outputs": [
    {
     "data": {
      "text/plain": [
       "f_optim\n",
       "0    10927\n",
       "1      716\n",
       "dtype: int64"
      ]
     },
     "execution_count": 42,
     "metadata": {},
     "output_type": "execute_result"
    }
   ],
   "source": [
    "###Normalization \n",
    "##Oversampling \n",
    "#hyperparameter tuning \n",
    "clf.get_params().keys()\n",
    "pd.DataFrame(test_Y1).groupby('f_optim').size()"
   ]
  },
  {
   "cell_type": "code",
   "execution_count": 134,
   "metadata": {
    "scrolled": true
   },
   "outputs": [
    {
     "name": "stdout",
     "output_type": "stream",
     "text": [
      "-------------FITTING MODELS-------------\n"
     ]
    },
    {
     "name": "stderr",
     "output_type": "stream",
     "text": [
      "[Parallel(n_jobs=-1)]: Done   3 out of   9 | elapsed:  3.4min remaining:  6.9min\n",
      "[Parallel(n_jobs=-1)]: Done   4 out of   9 | elapsed:  4.5min remaining:  5.6min\n",
      "[Parallel(n_jobs=-1)]: Done   5 out of   9 | elapsed:  4.5min remaining:  3.6min\n",
      "[Parallel(n_jobs=-1)]: Done   6 out of   9 | elapsed:  4.5min remaining:  2.2min\n",
      "[Parallel(n_jobs=-1)]: Done   7 out of   9 | elapsed:  4.5min remaining:  1.3min\n",
      "[Parallel(n_jobs=-1)]: Done   9 out of   9 | elapsed:  4.6min remaining:    0.0s\n",
      "[Parallel(n_jobs=-1)]: Done   9 out of   9 | elapsed:  4.6min finished\n"
     ]
    },
    {
     "name": "stdout",
     "output_type": "stream",
     "text": [
      "-------------SCORING MODELS-------------\n"
     ]
    },
    {
     "name": "stderr",
     "output_type": "stream",
     "text": [
      "[Parallel(n_jobs=-1)]: Done   9 out of   9 | elapsed:  4.8min finished\n"
     ]
    },
    {
     "data": {
      "image/png": "[encoded data removed]",
      "text/plain": [
       "<matplotlib.figure.Figure at 0xa067208>"
      ]
     },
     "metadata": {},
     "output_type": "display_data"
    },
    {
     "name": "stdout",
     "output_type": "stream",
     "text": [
      "SGDClassifier(alpha=0.001, average=False, class_weight=None, epsilon=0.1,\n",
      "       eta0=0.0, fit_intercept=True, l1_ratio=0.15,\n",
      "       learning_rate='optimal', loss='log', n_iter=1000, n_jobs=-1,\n",
      "       penalty='l2', power_t=0.5, random_state=None, shuffle=True,\n",
      "       verbose=0, warm_start=False) 0.665390059373\n"
     ]
    }
   ],
   "source": [
    "###Hyperparameter tuning \n",
    "\n",
    "##pip install parfit - anaconda\n",
    "from sklearn.model_selection import ParameterGrid\n",
    "from sklearn.linear_model import SGDClassifier\n",
    "from sklearn.metrics import roc_auc_score\n",
    "\n",
    "from parfit import bestFit\n",
    "import parfit as pf\n",
    "\n",
    "model =SGDClassifier()\n",
    "grid ={ \n",
    "'alpha' : [1e-4,1e-3,1e-2,1e-1,1e0,1e1,1e2,1e3,1e4], #learning rate \n",
    "'n_iter': [1000], #epoch\n",
    "'loss'  : ['log'], #logistic regression \n",
    "'penalty':['l2'], \n",
    "'n_jobs': [-1]\n",
    "}\n",
    "paramGrid = ParameterGrid(grid)\n",
    "\n",
    "\n",
    "bestModel, bestScore, allModels, allScores = pf.bestFit(model, paramGrid, train_X1, train_Y1, test_X1, test_Y1, \n",
    "                                                        metric = roc_auc_score, greater_is_better = True, scoreLabel = \"AUC\")\n",
    "\n",
    "print(bestModel, bestScore)"
   ]
  },
  {
   "cell_type": "code",
   "execution_count": 135,
   "metadata": {},
   "outputs": [
    {
     "name": "stdout",
     "output_type": "stream",
     "text": [
      "-------------FITTING MODELS-------------\n"
     ]
    },
    {
     "name": "stderr",
     "output_type": "stream",
     "text": [
      "[Parallel(n_jobs=-1)]: Done   3 out of   9 | elapsed:  3.9min remaining:  7.8min\n",
      "[Parallel(n_jobs=-1)]: Done   4 out of   9 | elapsed:  4.9min remaining:  6.2min\n",
      "[Parallel(n_jobs=-1)]: Done   5 out of   9 | elapsed:  4.9min remaining:  3.9min\n",
      "[Parallel(n_jobs=-1)]: Done   6 out of   9 | elapsed:  4.9min remaining:  2.5min\n",
      "[Parallel(n_jobs=-1)]: Done   7 out of   9 | elapsed:  4.9min remaining:  1.4min\n",
      "[Parallel(n_jobs=-1)]: Done   9 out of   9 | elapsed:  5.0min remaining:    0.0s\n",
      "[Parallel(n_jobs=-1)]: Done   9 out of   9 | elapsed:  5.0min finished\n"
     ]
    },
    {
     "name": "stdout",
     "output_type": "stream",
     "text": [
      "-------------SCORING MODELS-------------\n"
     ]
    },
    {
     "name": "stderr",
     "output_type": "stream",
     "text": [
      "[Parallel(n_jobs=-1)]: Done   9 out of   9 | elapsed:  4.3min finished\n"
     ]
    },
    {
     "data": {
      "image/png": "[encoded data removed]",
      "text/plain": [
       "<matplotlib.figure.Figure at 0x140744a8>"
      ]
     },
     "metadata": {},
     "output_type": "display_data"
    },
    {
     "name": "stdout",
     "output_type": "stream",
     "text": [
      "SGDClassifier(alpha=0.001, average=False, class_weight=None, epsilon=0.1,\n",
      "       eta0=0.0, fit_intercept=True, l1_ratio=0.15,\n",
      "       learning_rate='optimal', loss='log', n_iter=1000, n_jobs=-1,\n",
      "       penalty='l2', power_t=0.5, random_state=None, shuffle=True,\n",
      "       verbose=0, warm_start=False) 0.670561248775\n"
     ]
    }
   ],
   "source": [
    "\n",
    "bestModel1, bestScore1, allModels1, allScores1 = pf.bestFit(model, paramGrid, train_X11, train_Y1, test_X11, test_Y1, \n",
    "                                                        metric = roc_auc_score, greater_is_better = True, scoreLabel = \"AUC\")\n",
    "\n",
    "print(bestModel1, bestScore1)\n",
    "\n"
   ]
  },
  {
   "cell_type": "code",
   "execution_count": 136,
   "metadata": {},
   "outputs": [
    {
     "name": "stdout",
     "output_type": "stream",
     "text": [
      "Accuracy for (train,test)- 0.933073185098 0.938503822039\n",
      "Confusion Matrix for Mini Batch1- [[10927     0]\n",
      " [  716     0]]\n",
      "Accuracy for (train,test)- 0.676225887204 0.672678862836\n",
      "Confusion Matrix for Mini Batch1- [[7416 3511]\n",
      " [ 300  416]]\n"
     ]
    }
   ],
   "source": [
    "\n",
    "print(\"Accuracy for (train,test)-\" , accuracy_score(train_Y1,bestModel.predict(train_X1)), accuracy_score(test_Y1,bestModel.predict(test_X1)))\n",
    "print(\"Confusion Matrix for Mini Batch1-\", confusion_matrix(test_Y1,bestModel.predict(test_X1)))\n",
    "\n",
    "\n",
    "print(\"Accuracy for (train,test)-\" , accuracy_score(train_Y1,bestModel.predict(train_X11)), accuracy_score(test_Y1,bestModel.predict(test_X11)))\n",
    "print(\"Confusion Matrix for Mini Batch1-\", confusion_matrix(test_Y1,bestModel.predict(test_X11)))\n"
   ]
  },
  {
   "cell_type": "code",
   "execution_count": 137,
   "metadata": {},
   "outputs": [
    {
     "name": "stdout",
     "output_type": "stream",
     "text": [
      "f_optim\n",
      "0    12764\n",
      "1      830\n",
      "dtype: int64\n",
      "Accuracy with Mini Batch2 (train,test)- 0.937829525483 0.938493080472\n",
      "[[12717    47]\n",
      " [  819    11]]\n",
      "Accuracy with Mini Batch2 (train,test)- 0.637961335677 0.637621732445\n",
      "[[ 0.06543289 -0.10947792 -0.09263107  0.11547326  0.18088165  0.06550299\n",
      "   0.45758082  0.          0.06672504]]\n"
     ]
    }
   ],
   "source": [
    "#### Incremental for 1 month\n",
    "print(pd.DataFrame(comb_Y2).groupby('f_optim').size())\n",
    "bestModel.partial_fit(train_X2,train_Y2)\n",
    "###accuracy of train and test of mini batch 2\n",
    "print(\"Accuracy with Mini Batch2 (train,test)-\" , accuracy_score(train_Y2,bestModel.predict(train_X2)), accuracy_score(test_Y2,bestModel.predict(test_X2)))\n",
    "print(confusion_matrix(comb_Y2,bestModel.predict(comb_X2)))\n",
    "\n",
    "train_X21 = preprocessing.scale(train_X2)\n",
    "test_X21 = preprocessing.scale(test_X2)\n",
    "\n",
    "comb_X21 = preprocessing.scale(comb_X2)\n",
    "\n",
    "bestModel1.partial_fit(train_X21,train_Y2)\n",
    "###accuracy of train and test of mini batch 2\n",
    "print(\"Accuracy with Mini Batch2 (train,test)-\" , accuracy_score(train_Y2,bestModel.predict(train_X21)), accuracy_score(test_Y2,bestModel.predict(test_X21)))\n",
    "confusion_matrix(comb_Y2,bestModel.predict(comb_X21))\n",
    "print(bestModel1.coef_)\n",
    "#print(clf)"
   ]
  },
  {
   "cell_type": "code",
   "execution_count": 138,
   "metadata": {},
   "outputs": [
    {
     "name": "stdout",
     "output_type": "stream",
     "text": [
      "Accuracy with Mini Batch2 (train,test)- 0.940792053326 0.939154325538\n",
      "[[ 0.06556165 -0.10999906 -0.11190944  0.16746426  0.18173223  0.06577893\n",
      "   0.47384731 -0.06167591  0.06686592]]\n"
     ]
    }
   ],
   "source": [
    "train_X31 = preprocessing.scale(train_X3)\n",
    "test_X31 = preprocessing.scale(test_X3)\n",
    "comb_X31 = preprocessing.scale(comb_X3)\n",
    "\n",
    "#### Incremental for 2 month\n",
    "bestModel1.partial_fit(train_X3,train_Y3)\n",
    "###accuracy of train and test of mini batch 2\n",
    "print(\"Accuracy with Mini Batch2 (train,test)-\" , accuracy_score(train_Y3,bestModel1.predict(train_X3)), accuracy_score(comb_Y3,bestModel1.predict(comb_X3)))\n",
    "confusion_matrix(comb_Y3,bestModel1.predict(comb_X3))\n",
    "print(bestModel1.coef_)"
   ]
  },
  {
   "cell_type": "code",
   "execution_count": 139,
   "metadata": {},
   "outputs": [
    {
     "name": "stdout",
     "output_type": "stream",
     "text": [
      "Accuracy with Mini Batch2 (train,test)- 0.941787941788 0.942013643849\n",
      "[[ 0.06597285 -0.11079439 -0.15788909  0.25374606  0.18260491  0.06670494\n",
      "   0.49235024 -0.06162843  0.06521694]]\n"
     ]
    }
   ],
   "source": [
    "train_X41 = preprocessing.scale(train_X4)\n",
    "test_X41 = preprocessing.scale(test_X4)\n",
    "comb_X41 = preprocessing.scale(comb_X4)\n",
    "\n",
    "#### Incremental for 2 month\n",
    "bestModel1.partial_fit(train_X4,train_Y4)\n",
    "###accuracy of train and test of mini batch 2\n",
    "print(\"Accuracy with Mini Batch2 (train,test)-\" , accuracy_score(train_Y4,bestModel1.predict(train_X4)), accuracy_score(comb_Y4,bestModel1.predict(comb_X4)))\n",
    "confusion_matrix(comb_Y4,bestModel1.predict(comb_X4))\n",
    "print(bestModel1.coef_)"
   ]
  },
  {
   "cell_type": "code",
   "execution_count": 140,
   "metadata": {},
   "outputs": [
    {
     "name": "stdout",
     "output_type": "stream",
     "text": [
      "Accuracy with Mini Batch2 (train,test)- 0.948504310594 0.939793186709\n",
      "[[ 0.0665558  -0.11204723 -0.20544914  0.34724036  0.18335268  0.06684636\n",
      "   0.51335625 -0.06117577  0.06414826]]\n"
     ]
    }
   ],
   "source": [
    "train_X51 = preprocessing.scale(train_X5)\n",
    "test_X51 = preprocessing.scale(test_X5)\n",
    "comb_X51 = preprocessing.scale(comb_X5)\n",
    "\n",
    "#### Incremental for 2 month\n",
    "bestModel1.partial_fit(train_X5,train_Y5)\n",
    "###accuracy of train and test of mini batch 2\n",
    "print(\"Accuracy with Mini Batch2 (train,test)-\" , accuracy_score(train_Y5,bestModel1.predict(train_X5)), accuracy_score(comb_Y5,bestModel1.predict(comb_X5)))\n",
    "confusion_matrix(comb_Y5,bestModel1.predict(comb_X5))\n",
    "print(bestModel1.coef_)"
   ]
  },
  {
   "cell_type": "code",
   "execution_count": 141,
   "metadata": {},
   "outputs": [
    {
     "name": "stdout",
     "output_type": "stream",
     "text": [
      "Accuracy with Mini Batch2 (train,test)- 0.948593312712 0.94222462203\n",
      "[[ 0.06727732 -0.11343253 -0.25391295  0.45338488  0.18402356  0.06753098\n",
      "   0.53416506 -0.05969367  0.05525568]]\n"
     ]
    }
   ],
   "source": [
    "train_X61 = preprocessing.scale(train_X6)\n",
    "test_X61 = preprocessing.scale(test_X6)\n",
    "comb_X61 = preprocessing.scale(comb_X6)\n",
    "\n",
    "#### Incremental for 2 month\n",
    "bestModel1.partial_fit(train_X6,train_Y6)\n",
    "###accuracy of train and test of mini batch 2\n",
    "print(\"Accuracy with Mini Batch2 (train,test)-\" , accuracy_score(train_Y6,bestModel1.predict(train_X6)), accuracy_score(comb_Y6,bestModel1.predict(comb_X6)))\n",
    "confusion_matrix(comb_Y6,bestModel1.predict(comb_X6))\n",
    "print(bestModel1.coef_)"
   ]
  },
  {
   "cell_type": "code",
   "execution_count": null,
   "metadata": {},
   "outputs": [],
   "source": [
    "train_X1.iloc[:,5:].describe\n",
    "dir(clf.fit)\n",
    "\n"
   ]
  },
  {
   "cell_type": "code",
   "execution_count": null,
   "metadata": {
    "collapsed": true
   },
   "outputs": [],
   "source": [
    "string1 =\"ald\"\n",
    "string2 =\"dsf\"\n",
    "def d(string1,string2):\n",
    "    ls1 =list(string1)\n",
    "    ls2 =list(string2)\n",
    "    if (ls1==ls2):\n",
    "        print(\"anagram\")\n",
    "d(string1,string2)   "
   ]
  }
 ],
 "metadata": {
  "kernelspec": {
   "display_name": "Python 3",
   "language": "python",
   "name": "python3"
  },
  "language_info": {
   "codemirror_mode": {
    "name": "ipython",
    "version": 3
   },
   "file_extension": ".py",
   "mimetype": "text/x-python",
   "name": "python",
   "nbconvert_exporter": "python",
   "pygments_lexer": "ipython3",
   "version": "3.6.1"
  }
 },
 "nbformat": 4,
 "nbformat_minor": 2
}
